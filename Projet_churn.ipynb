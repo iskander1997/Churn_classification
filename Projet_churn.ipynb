{
 "cells": [
  {
   "cell_type": "code",
   "execution_count": 1,
   "metadata": {},
   "outputs": [],
   "source": [
    "import polars as pl"
   ]
  },
  {
   "cell_type": "code",
   "execution_count": 45,
   "metadata": {},
   "outputs": [],
   "source": [
    "def data_read_pl(filename: str):\n",
    "    try:\n",
    "        data = pl.read_csv(filename)\n",
    "        return data\n",
    "    except Exception as e:\n",
    "        print(f\"Error loading data: {e}\")\n",
    "        return None\n",
    "\n",
    "\n",
    "class FeatureEngineering:\n",
    "    def __init__(self, df: pl.DataFrame, test=False):\n",
    "        self.df = df\n",
    "        self.test = test\n",
    "\n",
    "    def polars_convert_str_datetime(self, field_names):\n",
    "        self.df = self.df.with_columns(\n",
    "            [pl.col(field).str.strptime(pl.Datetime, format=\"%Y-%m-%d %H:%M:%S\").alias(field) for field in field_names]\n",
    "        )\n",
    "        return self\n",
    "\n",
    "    def calculate_betting_metrics(self):\n",
    "        \"\"\"Calculate additional betting related metrics.\"\"\"\n",
    "        if self.test:\n",
    "            self.df = self.df.with_columns(\n",
    "                [\n",
    "                    (pl.col(\"sum_of_real_wins\") - pl.col(\"sum_of_real_bets\")).alias(\"net_winnings\"),\n",
    "                    (\n",
    "                        pl.when(pl.col(\"count_of_bets\") == 0)\n",
    "                        .then(0)\n",
    "                        .otherwise(pl.col(\"count_of_wins\") / pl.col(\"count_of_bets\"))\n",
    "                        .alias(\"win_rate\")\n",
    "                    ),\n",
    "                    ((pl.col(\"max_window_timestamp\") - pl.col(\"min_window_timestamp\")).alias(\"window_duration\")),\n",
    "                ]\n",
    "            )\n",
    "        else:\n",
    "            self.df = self.df.with_columns(\n",
    "                [\n",
    "                    (pl.col(\"sum_of_real_wins\") - pl.col(\"sum_of_real_bets\")).alias(\"net_winnings\"),\n",
    "                    (\n",
    "                        pl.when(pl.col(\"next_session_delay\") >= 30)\n",
    "                        .then(1)\n",
    "                        .otherwise(0)\n",
    "                        # .cast(pl.String)\n",
    "                        # .cast(pl.Categorical)\n",
    "                        .alias(\"churn\")\n",
    "                    ),\n",
    "                    (pl.when(pl.col(\"next_session_delay\") >= 7).then(1).otherwise(0).alias(\"delay_over_7\")),\n",
    "                    (\n",
    "                        pl.when(pl.col(\"count_of_bets\") == 0)\n",
    "                        .then(0)\n",
    "                        .otherwise(pl.col(\"count_of_wins\") / pl.col(\"count_of_bets\"))\n",
    "                        .alias(\"win_rate\")\n",
    "                    ),\n",
    "                    ((pl.col(\"max_window_timestamp\") - pl.col(\"min_window_timestamp\")).alias(\"window_duration\")),\n",
    "                ]\n",
    "            )\n",
    "        self.df = self.df.with_columns((pl.col(\"window_duration\").cast(pl.Float64) / 1_000_000 / 60).alias(\"window_duration_minutes\"))\n",
    "        return self\n",
    "\n",
    "    @staticmethod\n",
    "    def normalize_columns(data, columns):\n",
    "        \"\"\"Normalize specified columns using Min-Max Normalization.\"\"\"\n",
    "        for col in columns:\n",
    "            col_min = data[col].min()\n",
    "            col_max = data[col].max()\n",
    "            data = data.with_columns(((pl.col(col) - col_min) / (col_max - col_min)).alias(col))\n",
    "        return data\n",
    "\n",
    "    def aggregate_by_user(self):\n",
    "        \"\"\"Aggregate metrics by user_id.\"\"\"\n",
    "        # Example aggregations\n",
    "        aggregated_df = self.df.group_by(\"user_id\").agg(\n",
    "            [\n",
    "                pl.sum(\"sum_of_real_bets\").alias(\"total_bets\"),\n",
    "                pl.sum(\"sum_of_real_wins\").alias(\"total_wins\"),\n",
    "                pl.sum(\"net_winnings\").alias(\"total_net_winnings\"),\n",
    "                pl.mean(\"win_rate\").alias(\"average_win_rate\"),\n",
    "                pl.max(\"window_duration\").alias(\"max_session_duration\"),\n",
    "                pl.min(\"window_duration\").alias(\"min_session_duration\"),\n",
    "                pl.mean(\"window_duration\").alias(\"average_session_duration\"),\n",
    "                pl.count(\"session_number\").alias(\"total_sessions\"),\n",
    "                pl.sum(\"next_session_delay\").alias(\"total_next_session_delay\"),\n",
    "                pl.max(\"next_session_delay\").alias(\"max_next_session_delay\"),\n",
    "                pl.mean(\"next_session_delay\").alias(\"mean_next_session_delay\"),\n",
    "            ]\n",
    "        )\n",
    "        return aggregated_df\n",
    "\n",
    "    def finalize(self):\n",
    "        \"\"\"Final method to call to get the processed DataFrame.\"\"\"\n",
    "        self.polars_convert_str_datetime(field_names=(\"min_window_timestamp\", \"max_window_timestamp\")).calculate_betting_metrics()\n",
    "        # .normalize_columns(\n",
    "        #     [\"sum_of_real_bets\", \"sum_of_real_wins\", \"net_winnings\"]\n",
    "        # )\n",
    "        return self.df\n",
    "\n",
    "\n",
    "def exclude_columns_pl(df_pl: pl.DataFrame, columns: list = []):\n",
    "    return df_pl.drop(columns)"
   ]
  },
  {
   "cell_type": "code",
   "execution_count": 3,
   "metadata": {},
   "outputs": [],
   "source": [
    "data_pl = data_read_pl(\"data/train.csv\")  # Load your data\n",
    "\n",
    "# Create an instance of the feature engineering class\n",
    "fe = FeatureEngineering(data_pl)\n",
    "processed_df = fe.finalize()\n",
    "agg_data = fe.aggregate_by_user()"
   ]
  },
  {
   "cell_type": "code",
   "execution_count": 4,
   "metadata": {},
   "outputs": [
    {
     "name": "stdout",
     "output_type": "stream",
     "text": [
      "['session_number', 'count_of_bets', 'count_of_wins', 'sum_of_real_bets', 'sum_of_real_wins', 'highest_single_bet', 'highest_single_win', 'sum_of_deposits', 'net_winnings', 'window_duration_minutes']\n"
     ]
    },
    {
     "data": {
      "text/html": [
       "<div><style>\n",
       ".dataframe > thead > tr,\n",
       ".dataframe > tbody > tr {\n",
       "  text-align: right;\n",
       "  white-space: pre-wrap;\n",
       "}\n",
       "</style>\n",
       "<small>shape: (27_743, 11)</small><table border=\"1\" class=\"dataframe\"><thead><tr><th>session_number</th><th>count_of_bets</th><th>count_of_wins</th><th>sum_of_real_bets</th><th>sum_of_real_wins</th><th>highest_single_bet</th><th>highest_single_win</th><th>sum_of_deposits</th><th>net_winnings</th><th>churn</th><th>window_duration_minutes</th></tr><tr><td>f64</td><td>f64</td><td>f64</td><td>f64</td><td>f64</td><td>f64</td><td>f64</td><td>f64</td><td>f64</td><td>i32</td><td>f64</td></tr></thead><tbody><tr><td>0.391779</td><td>0.000417</td><td>0.00127</td><td>0.000359</td><td>0.000365</td><td>0.012122</td><td>0.012828</td><td>0.0</td><td>0.78955</td><td>1</td><td>0.013699</td></tr><tr><td>0.392269</td><td>0.002609</td><td>0.007622</td><td>0.002854</td><td>0.002647</td><td>0.018182</td><td>0.012828</td><td>0.0</td><td>0.785232</td><td>1</td><td>0.027397</td></tr><tr><td>0.392432</td><td>0.002348</td><td>0.00614</td><td>0.001335</td><td>0.001117</td><td>0.014545</td><td>0.005131</td><td>0.002128</td><td>0.786311</td><td>0</td><td>0.013699</td></tr><tr><td>0.392595</td><td>0.002974</td><td>0.008469</td><td>0.002169</td><td>0.002704</td><td>0.027273</td><td>0.028865</td><td>0.002128</td><td>0.793933</td><td>1</td><td>0.020548</td></tr><tr><td>0.392758</td><td>0.001931</td><td>0.005505</td><td>0.000893</td><td>0.001085</td><td>0.009696</td><td>0.010263</td><td>0.002128</td><td>0.791173</td><td>1</td><td>0.013699</td></tr><tr><td>&hellip;</td><td>&hellip;</td><td>&hellip;</td><td>&hellip;</td><td>&hellip;</td><td>&hellip;</td><td>&hellip;</td><td>&hellip;</td><td>&hellip;</td><td>&hellip;</td><td>&hellip;</td></tr><tr><td>0.001794</td><td>0.041273</td><td>0.033665</td><td>0.00077</td><td>0.000849</td><td>0.000758</td><td>0.004009</td><td>0.000904</td><td>0.790025</td><td>0</td><td>0.047945</td></tr><tr><td>0.000489</td><td>0.008766</td><td>0.021596</td><td>0.000607</td><td>0.000669</td><td>0.001249</td><td>0.001443</td><td>0.000479</td><td>0.789967</td><td>0</td><td>0.054795</td></tr><tr><td>0.000326</td><td>0.010279</td><td>0.007834</td><td>0.000047</td><td>0.000032</td><td>0.000038</td><td>0.000409</td><td>0.000112</td><td>0.789558</td><td>0</td><td>0.006849</td></tr><tr><td>0.000489</td><td>0.003809</td><td>0.003599</td><td>0.000005</td><td>0.000004</td><td>0.000007</td><td>0.000048</td><td>0.0</td><td>0.789749</td><td>1</td><td>0.006849</td></tr><tr><td>0.001631</td><td>0.018367</td><td>0.019691</td><td>0.000059</td><td>0.000061</td><td>0.000045</td><td>0.001203</td><td>0.000015</td><td>0.789742</td><td>0</td><td>0.020548</td></tr></tbody></table></div>"
      ],
      "text/plain": [
       "shape: (27_743, 11)\n",
       "┌────────────┬────────────┬────────────┬───────────┬───┬───────────┬───────────┬───────┬───────────┐\n",
       "│ session_nu ┆ count_of_b ┆ count_of_w ┆ sum_of_re ┆ … ┆ sum_of_de ┆ net_winni ┆ churn ┆ window_du │\n",
       "│ mber       ┆ ets        ┆ ins        ┆ al_bets   ┆   ┆ posits    ┆ ngs       ┆ ---   ┆ ration_mi │\n",
       "│ ---        ┆ ---        ┆ ---        ┆ ---       ┆   ┆ ---       ┆ ---       ┆ i32   ┆ nutes     │\n",
       "│ f64        ┆ f64        ┆ f64        ┆ f64       ┆   ┆ f64       ┆ f64       ┆       ┆ ---       │\n",
       "│            ┆            ┆            ┆           ┆   ┆           ┆           ┆       ┆ f64       │\n",
       "╞════════════╪════════════╪════════════╪═══════════╪═══╪═══════════╪═══════════╪═══════╪═══════════╡\n",
       "│ 0.391779   ┆ 0.000417   ┆ 0.00127    ┆ 0.000359  ┆ … ┆ 0.0       ┆ 0.78955   ┆ 1     ┆ 0.013699  │\n",
       "│ 0.392269   ┆ 0.002609   ┆ 0.007622   ┆ 0.002854  ┆ … ┆ 0.0       ┆ 0.785232  ┆ 1     ┆ 0.027397  │\n",
       "│ 0.392432   ┆ 0.002348   ┆ 0.00614    ┆ 0.001335  ┆ … ┆ 0.002128  ┆ 0.786311  ┆ 0     ┆ 0.013699  │\n",
       "│ 0.392595   ┆ 0.002974   ┆ 0.008469   ┆ 0.002169  ┆ … ┆ 0.002128  ┆ 0.793933  ┆ 1     ┆ 0.020548  │\n",
       "│ 0.392758   ┆ 0.001931   ┆ 0.005505   ┆ 0.000893  ┆ … ┆ 0.002128  ┆ 0.791173  ┆ 1     ┆ 0.013699  │\n",
       "│ …          ┆ …          ┆ …          ┆ …         ┆ … ┆ …         ┆ …         ┆ …     ┆ …         │\n",
       "│ 0.001794   ┆ 0.041273   ┆ 0.033665   ┆ 0.00077   ┆ … ┆ 0.000904  ┆ 0.790025  ┆ 0     ┆ 0.047945  │\n",
       "│ 0.000489   ┆ 0.008766   ┆ 0.021596   ┆ 0.000607  ┆ … ┆ 0.000479  ┆ 0.789967  ┆ 0     ┆ 0.054795  │\n",
       "│ 0.000326   ┆ 0.010279   ┆ 0.007834   ┆ 0.000047  ┆ … ┆ 0.000112  ┆ 0.789558  ┆ 0     ┆ 0.006849  │\n",
       "│ 0.000489   ┆ 0.003809   ┆ 0.003599   ┆ 0.000005  ┆ … ┆ 0.0       ┆ 0.789749  ┆ 1     ┆ 0.006849  │\n",
       "│ 0.001631   ┆ 0.018367   ┆ 0.019691   ┆ 0.000059  ┆ … ┆ 0.000015  ┆ 0.789742  ┆ 0     ┆ 0.020548  │\n",
       "└────────────┴────────────┴────────────┴───────────┴───┴───────────┴───────────┴───────┴───────────┘"
      ]
     },
     "execution_count": 4,
     "metadata": {},
     "output_type": "execute_result"
    }
   ],
   "source": [
    "clean_train_df = processed_df.filter(pl.col(\"delay_over_7\") == 1)\n",
    "clean_train_df = exclude_columns_pl(\n",
    "    clean_train_df,\n",
    "    columns=[\n",
    "        \"user_id\",\n",
    "        \"delay_over_7\",\n",
    "        \"win_rate\",\n",
    "        \"window_duration\",\n",
    "        \"min_window_timestamp\",\n",
    "        \"max_window_timestamp\",\n",
    "        \"next_session_delay\",\n",
    "    ],\n",
    ")\n",
    "clean_train_df = clean_train_df.filter(pl.col(\"window_duration_minutes\") >= 0)\n",
    "print(list(clean_train_df.drop(\"churn\").columns))\n",
    "clean_train_df = fe.normalize_columns(clean_train_df, list(clean_train_df.drop(\"churn\").columns))\n",
    "clean_train_df"
   ]
  },
  {
   "cell_type": "markdown",
   "metadata": {},
   "source": [
    "# GLM model for feature selection"
   ]
  },
  {
   "cell_type": "code",
   "execution_count": 5,
   "metadata": {},
   "outputs": [
    {
     "name": "stdout",
     "output_type": "stream",
     "text": [
      "['session_number', 'count_of_bets', 'count_of_wins', 'sum_of_real_bets', 'sum_of_real_wins', 'highest_single_bet', 'highest_single_win', 'sum_of_deposits', 'net_winnings', 'window_duration_minutes']\n",
      "                 Generalized Linear Model Regression Results                  \n",
      "==============================================================================\n",
      "Dep. Variable:                  churn   No. Observations:                27743\n",
      "Model:                            GLM   Df Residuals:                    27733\n",
      "Model Family:                Binomial   Df Model:                            9\n",
      "Link Function:                  Logit   Scale:                          1.0000\n",
      "Method:                          IRLS   Log-Likelihood:                -18485.\n",
      "Date:                Sat, 11 Jan 2025   Deviance:                       36970.\n",
      "Time:                        18:47:18   Pearson chi2:                 2.94e+06\n",
      "No. Iterations:                     6   Pseudo R-squ. (CS):            0.01939\n",
      "Covariance Type:            nonrobust                                         \n",
      "===========================================================================================\n",
      "                              coef    std err          z      P>|z|      [0.025      0.975]\n",
      "-------------------------------------------------------------------------------------------\n",
      "Intercept                  50.8019      7.337      6.924      0.000      36.422      65.182\n",
      "session_number            -12.7946      0.753    -16.981      0.000     -14.271     -11.318\n",
      "count_of_bets              -1.7154      1.147     -1.496      0.135      -3.963       0.532\n",
      "count_of_wins               1.2867      0.921      1.397      0.162      -0.518       3.092\n",
      "sum_of_real_bets            8.1662      8.119      1.006      0.315      -7.747      24.079\n",
      "sum_of_real_wins           -0.7757      9.150     -0.085      0.932     -18.709      17.158\n",
      "highest_single_bet          0.1460      5.059      0.029      0.977      -9.769      10.061\n",
      "highest_single_win         13.6151      2.501      5.443      0.000       8.712      18.518\n",
      "sum_of_deposits             6.2348      3.363      1.854      0.064      -0.356      12.826\n",
      "net_winnings              -64.6459      9.293     -6.956      0.000     -82.860     -46.432\n",
      "window_duration_minutes    -1.2463      0.699     -1.783      0.075      -2.617       0.124\n",
      "===========================================================================================\n"
     ]
    }
   ],
   "source": [
    "import statsmodels.api as sm\n",
    "import statsmodels.formula.api as smf\n",
    "import traceback\n",
    "\n",
    "try:\n",
    "    all_columns = list(clean_train_df.columns)\n",
    "\n",
    "    # Prepare the formula for the GLM model by excluding the target variable ('Churn') from the predictors\n",
    "    glm_columns = [col for col in all_columns if col != \"churn\"]\n",
    "    print(glm_columns)\n",
    "    glm_columns_formula = \" + \".join(map(str, glm_columns))\n",
    "\n",
    "    # Fit the glm with a binomial family (binary classification)\n",
    "    glm_model = smf.glm(formula=f\"churn ~ {glm_columns_formula}\", data=clean_train_df, family=sm.families.Binomial())\n",
    "\n",
    "    res = glm_model.fit()\n",
    "    print(res.summary())\n",
    "except:\n",
    "    traceback.print_exc()"
   ]
  },
  {
   "cell_type": "code",
   "execution_count": 8,
   "metadata": {},
   "outputs": [],
   "source": [
    "# from pandas_profiling import ProfileReport\n",
    "# pd_df = clean_train_df.to_pandas()\n",
    "# profile = ProfileReport(pd_df, title=\"Analyse train data Full v3\", explorative=True)\n",
    "\n",
    "# # Save the report as an HTML file\n",
    "# profile.to_file(\"Analyse train data Full v3.html\")"
   ]
  },
  {
   "cell_type": "markdown",
   "metadata": {},
   "source": [
    "# MAIN MODELS TRAINING"
   ]
  },
  {
   "cell_type": "code",
   "execution_count": 9,
   "metadata": {},
   "outputs": [
    {
     "name": "stdout",
     "output_type": "stream",
     "text": [
      "['session_number', 'highest_single_win', 'sum_of_deposits', 'net_winnings', 'window_duration_minutes']\n",
      "{'Accuracy': 0.5730442006534292,\n",
      " 'Classifier': 'KNeighborsClassifier',\n",
      " 'F1 Score': 0.5636515011302334,\n",
      " 'Precision': 0.5643689200344274,\n",
      " 'ROC AUC': 0.5607077265685427,\n",
      " 'Recall': 0.5730442006534292}\n",
      "{'Accuracy': 0.5381527959105464,\n",
      " 'Classifier': 'DecisionTreeClassifier',\n",
      " 'F1 Score': 0.5376687000737569,\n",
      " 'Precision': 0.5385346848222283,\n",
      " 'ROC AUC': 0.5223231469110786,\n",
      " 'Recall': 0.5381527959105464}\n",
      "{'Accuracy': 0.5846155095253869,\n",
      " 'Classifier': 'RandomForestClassifier',\n",
      " 'F1 Score': 0.5686793757974931,\n",
      " 'Precision': 0.572142469013879,\n",
      " 'ROC AUC': 0.5758646553532207,\n",
      " 'Recall': 0.5846155095253869}\n",
      "{'Accuracy': 0.6179223419526231,\n",
      " 'Classifier': 'AdaBoostClassifier',\n",
      " 'F1 Score': 0.5597954243753184,\n",
      " 'Precision': 0.6191028753326806,\n",
      " 'ROC AUC': 0.6317141923991884,\n",
      " 'Recall': 0.6179223419526231}\n",
      "{'Accuracy': 0.6215988360386342,\n",
      " 'Classifier': 'GradientBoostingClassifier',\n",
      " 'F1 Score': 0.5744322866500186,\n",
      " 'Precision': 0.6190513857244916,\n",
      " 'ROC AUC': 0.6387710731919916,\n",
      " 'Recall': 0.6215988360386342}\n",
      "{'Accuracy': 0.5986375546418805,\n",
      " 'Classifier': 'LogisticRegression',\n",
      " 'F1 Score': 0.46884731001056174,\n",
      " 'Precision': 0.6236154672607349,\n",
      " 'ROC AUC': 0.6203102841996537,\n",
      " 'Recall': 0.5986375546418805}\n",
      "                Classifier  ROC AUC  Accuracy  Precision   Recall  F1 Score\n",
      "      KNeighborsClassifier 0.560708  0.573044   0.564369 0.573044  0.563652\n",
      "    DecisionTreeClassifier 0.522323  0.538153   0.538535 0.538153  0.537669\n",
      "    RandomForestClassifier 0.575865  0.584616   0.572142 0.584616  0.568679\n",
      "        AdaBoostClassifier 0.631714  0.617922   0.619103 0.617922  0.559795\n",
      "GradientBoostingClassifier 0.638771  0.621599   0.619051 0.621599  0.574432\n",
      "        LogisticRegression 0.620310  0.598638   0.623615 0.598638  0.468847\n"
     ]
    }
   ],
   "source": [
    "from sklearn.pipeline import Pipeline\n",
    "from sklearn.model_selection import cross_validate\n",
    "from sklearn.metrics import make_scorer, precision_score, recall_score, f1_score\n",
    "from sklearn.preprocessing import StandardScaler, OneHotEncoder\n",
    "from sklearn.compose import ColumnTransformer\n",
    "from sklearn.feature_selection import SelectKBest\n",
    "from sklearn.neighbors import KNeighborsClassifier\n",
    "from sklearn.svm import SVC\n",
    "from sklearn.tree import DecisionTreeClassifier\n",
    "from sklearn.ensemble import (\n",
    "    RandomForestClassifier,\n",
    "    AdaBoostClassifier,\n",
    "    GradientBoostingClassifier,\n",
    ")\n",
    "from sklearn.linear_model import LogisticRegression\n",
    "import pandas as pd\n",
    "import numpy as np\n",
    "from pprint import pprint\n",
    "# Assume X and y are defined\n",
    "# For example:\n",
    "# X, y = load_your_data_function()\n",
    "\n",
    "# Define the preprocessor\n",
    "numeric_features = list(clean_train_df.columns)  # Update with your numeric features\n",
    "removed_features = [\"count_of_bets\", \"count_of_wins\", \"sum_of_real_bets\", \"sum_of_real_wins\", \"highest_single_bet\", \"churn\"]\n",
    "numeric_features = [i for i in numeric_features if i not in removed_features]\n",
    "categorical_features = []  # Update with your categorical features\n",
    "\n",
    "print(numeric_features)\n",
    "X = clean_train_df.drop(removed_features)\n",
    "y = clean_train_df[\"churn\"]\n",
    "\n",
    "numeric_transformer = Pipeline(steps=[(\"scaler\", StandardScaler())])\n",
    "\n",
    "categorical_transformer = Pipeline(steps=[(\"onehot\", OneHotEncoder(handle_unknown=\"ignore\"))])\n",
    "\n",
    "preprocessor = ColumnTransformer(\n",
    "    transformers=[\n",
    "        (\"num\", numeric_transformer, numeric_features),\n",
    "        (\"cat\", categorical_transformer, categorical_features),\n",
    "    ]\n",
    ")\n",
    "\n",
    "# List of classifiers\n",
    "classifiers = [\n",
    "    KNeighborsClassifier(),\n",
    "    DecisionTreeClassifier(random_state=123),\n",
    "    RandomForestClassifier(random_state=123),\n",
    "    AdaBoostClassifier(random_state=123),\n",
    "    GradientBoostingClassifier(random_state=123),\n",
    "    LogisticRegression(random_state=123),\n",
    "]\n",
    "\n",
    "# List of classifier names\n",
    "classifier_names = [clf.__class__.__name__ for clf in classifiers]\n",
    "\n",
    "scoring_metrics = {\n",
    "    \"roc_auc\": \"roc_auc_ovr\",\n",
    "    \"accuracy\": \"accuracy\",\n",
    "    \"precision\": make_scorer(precision_score, average=\"weighted\", zero_division=0),\n",
    "    \"recall\": make_scorer(recall_score, average=\"weighted\", zero_division=0),\n",
    "    \"f1_score\": make_scorer(f1_score, average=\"weighted\", zero_division=0),\n",
    "}\n",
    "\n",
    "# Collect results in a list\n",
    "model_results = []\n",
    "aziz = []\n",
    "# Loop through the classifiers\n",
    "for classifier, name in zip(classifiers, classifier_names):\n",
    "    # print(name)\n",
    "    pipe = Pipeline(\n",
    "        steps=[\n",
    "            (\"preprocessor\", preprocessor),\n",
    "            (\n",
    "                \"selector\",\n",
    "                SelectKBest(k=len(numeric_features) + len(categorical_features)),\n",
    "            ),  # Adjust based on actual number of features after encoding\n",
    "            (\"classifier\", classifier),\n",
    "        ]\n",
    "    )\n",
    "    results = cross_validate(pipe, X, y, cv=10, scoring=scoring_metrics, return_train_score=False, n_jobs=-1)\n",
    "    payload = {\n",
    "        \"Classifier\": name,\n",
    "        \"ROC AUC\": results[\"test_roc_auc\"].mean(),\n",
    "        \"Accuracy\": results[\"test_accuracy\"].mean(),\n",
    "        \"Precision\": results[\"test_precision\"].mean(),\n",
    "        \"Recall\": results[\"test_recall\"].mean(),\n",
    "        \"F1 Score\": results[\"test_f1_score\"].mean(),\n",
    "        # 'Fit Time': results['fit_time'].mean(),\n",
    "        # 'Score Time': results['score_time'].mean(),\n",
    "    }\n",
    "    model_results.append(payload)\n",
    "    pprint(payload)\n",
    "    aziz.append({\"Classifier\": name, \"DATA\": results})\n",
    "\n",
    "\n",
    "# Convert results to DataFrame for better visualization\n",
    "results_df = pd.DataFrame(model_results)\n",
    "print(results_df.to_string(index=False))\n"
   ]
  },
  {
   "cell_type": "markdown",
   "metadata": {},
   "source": [
    "# BEST MODEL FINE TUNING"
   ]
  },
  {
   "cell_type": "code",
   "execution_count": 17,
   "metadata": {},
   "outputs": [
    {
     "name": "stdout",
     "output_type": "stream",
     "text": [
      "Fitting 3 folds for each of 576 candidates, totalling 1728 fits\n",
      "Best parameters found:  {'classifier__learning_rate': 0.05, 'classifier__max_depth': 3, 'classifier__max_features': 'sqrt', 'classifier__min_samples_leaf': 6, 'classifier__min_samples_split': 8, 'classifier__n_estimators': 130, 'selector__k': 5}\n",
      "Best ROC AUC score:  0.6362982106578071\n"
     ]
    }
   ],
   "source": [
    "from sklearn.pipeline import Pipeline\n",
    "from sklearn.model_selection import GridSearchCV\n",
    "from sklearn.feature_selection import SelectKBest\n",
    "from sklearn.ensemble import GradientBoostingClassifier\n",
    "from sklearn.compose import ColumnTransformer\n",
    "from sklearn.preprocessing import StandardScaler\n",
    "import pandas as pd\n",
    "\n",
    "# Assume X and y are defined\n",
    "# Preprocessor setup for numerical data only\n",
    "numeric_features = list(X.columns)  # All features are numeric\n",
    "\n",
    "numeric_transformer = Pipeline(steps=[(\"scaler\", StandardScaler())])\n",
    "categorical_transformer = Pipeline(steps=[(\"onehot\", OneHotEncoder(handle_unknown=\"ignore\"))])\n",
    "\n",
    "preprocessor = ColumnTransformer(\n",
    "    transformers=[\n",
    "        (\"num\", numeric_transformer, numeric_features),\n",
    "        (\"cat\", categorical_transformer, categorical_features),\n",
    "    ]\n",
    ")\n",
    "# preprocessor = ColumnTransformer(\n",
    "#     transformers=[\n",
    "#         (\"num\", numeric_transformer, numeric_features),\n",
    "#     ]\n",
    "# )\n",
    "\n",
    "# Define the pipeline\n",
    "pipe = Pipeline(\n",
    "    steps=[\n",
    "        (\"preprocessor\", preprocessor),\n",
    "        (\"selector\", SelectKBest()),\n",
    "        (\"classifier\", GradientBoostingClassifier(random_state=123)),\n",
    "    ]\n",
    ")\n",
    "\n",
    "# Range of features to consider in SelectKBest\n",
    "# k_range = range(6, 8)  # Adjusted for numeric features only\n",
    "\n",
    "# Parameter grid for GridSearchCV\n",
    "grid = {\n",
    "    \"selector__k\": [5],\n",
    "    \"classifier__max_depth\": [1, 2, 3, 5],\n",
    "    # \"classifier__max_depth\": [3, 4],\n",
    "    \"classifier__learning_rate\": [0.03, 0.04, 0.05, 0.06],\n",
    "    # \"classifier__learning_rate\": [0.05, 0.1],\n",
    "    \"classifier__n_estimators\": [120, 130, 150],\n",
    "    # \"classifier__n_estimators\": [50, 100, 150,,200,250],\n",
    "    \"classifier__min_samples_split\": [8, 9, 10, 11],\n",
    "    # \"classifier__min_samples_split\": [2, 5, 10,12,14],\n",
    "    \"classifier__min_samples_leaf\": [6, 7, 8],\n",
    "    # \"classifier__min_samples_leaf\": [1, 2, 4,5],\n",
    "    \"classifier__max_features\": [\"sqrt\"],\n",
    "    # \"classifier__max_features\": ['sqrt', 'log2']\n",
    "}\n",
    "\n",
    "# Initialize GridSearchCV\n",
    "gridsearch = GridSearchCV(estimator=pipe, param_grid=grid, cv=3, n_jobs=-1, scoring=\"roc_auc\", verbose=1)\n",
    "\n",
    "# Fit GridSearchCV\n",
    "gridsearch.fit(X, y)\n",
    "\n",
    "# Best parameters and score\n",
    "print(\"Best parameters found: \", gridsearch.best_params_)\n",
    "print(\"Best ROC AUC score: \", gridsearch.best_score_)\n"
   ]
  },
  {
   "cell_type": "code",
   "execution_count": 98,
   "metadata": {},
   "outputs": [
    {
     "name": "stdout",
     "output_type": "stream",
     "text": [
      "['session_number', 'count_of_bets', 'count_of_wins', 'sum_of_real_bets', 'sum_of_real_wins', 'highest_single_bet', 'highest_single_win', 'sum_of_deposits', 'net_winnings', 'window_duration_minutes']\n",
      "ROC AUC score: 0.5614995772508886\n"
     ]
    }
   ],
   "source": [
    "from sklearn.model_selection import train_test_split\n",
    "from sklearn.metrics import roc_auc_score\n",
    "\n",
    "params = {\n",
    "    \"learning_rate\": 0.05,\n",
    "    \"max_depth\": 3,\n",
    "    \"max_features\": \"sqrt\",\n",
    "    \"min_samples_leaf\": 6,\n",
    "    \"min_samples_split\": 8,\n",
    "    \"n_estimators\": 130,\n",
    "}\n",
    "numeric_features = list(clean_train_df.columns)  # Update with your numeric features\n",
    "removed_features = [\"count_of_bets\", \"count_of_wins\", \"sum_of_real_bets\", \"sum_of_real_wins\", \"highest_single_bet\", \"churn\"]\n",
    "numeric_features = [i for i in numeric_features if i not in removed_features]\n",
    "categorical_features = []  # Update with your categorical features\n",
    "\n",
    "print(numeric_features)\n",
    "X = clean_train_df.drop(removed_features)\n",
    "y = clean_train_df[\"churn\"]\n",
    "\n",
    "# # Define feature selector with 'k' best features\n",
    "# selector_k = 5\n",
    "# selector = SelectKBest(score_func=f_classif, k=selector_k)\n",
    "\n",
    "# Initialize the GradientBoostingClassifier with parameters unpacked from the dictionary\n",
    "churn_classifier = GradientBoostingClassifier(\n",
    "    learning_rate=params[\"learning_rate\"],\n",
    "    max_depth=params[\"max_depth\"],\n",
    "    max_features=params[\"max_features\"],\n",
    "    min_samples_leaf=params[\"min_samples_leaf\"],\n",
    "    min_samples_split=params[\"min_samples_split\"],\n",
    "    n_estimators=params[\"n_estimators\"],\n",
    "    random_state=123,\n",
    ")\n",
    "\n",
    "# Split the data into training and testing sets\n",
    "X_train, X_test, y_train, y_test = train_test_split(X, y, test_size=0.20, random_state=123)\n",
    "# Fit the model on the training data\n",
    "churn_classifier.fit(X_train, y_train)\n",
    "\n",
    "# Predict on the testing data\n",
    "y_pred = churn_classifier.predict(X_test)\n",
    "roc_auc = roc_auc_score(y_test, y_pred)\n",
    "print(f\"ROC AUC score: {roc_auc}\")"
   ]
  },
  {
   "cell_type": "code",
   "execution_count": null,
   "metadata": {},
   "outputs": [
    {
     "data": {
      "image/png": "[encoded data removed]",
      "text/plain": [
       "<Figure size 800x600 with 2 Axes>"
      ]
     },
     "metadata": {},
     "output_type": "display_data"
    }
   ],
   "source": [
    "from sklearn.metrics import confusion_matrix\n",
    "import seaborn as sns\n",
    "import matplotlib.pyplot as plt\n",
    "\n",
    "# Fit the model and make predictions as you have done previously\n",
    "churn_classifier.fit(X_train, y_train)\n",
    "y_pred = churn_classifier.predict(X_test)\n",
    "\n",
    "# Calculate the confusion matrix\n",
    "cm = confusion_matrix(y_test, y_pred)\n",
    "\n",
    "# Plotting the confusion matrix\n",
    "plt.figure(figsize=(8, 6))\n",
    "sns.heatmap(\n",
    "    cm,\n",
    "    annot=True,\n",
    "    fmt=\"d\",\n",
    "    cmap=\"Blues\",\n",
    "    xticklabels=[\"Predicted Non-Churn\", \"Predicted Churn\"],\n",
    "    yticklabels=[\"Actual Non-Churn\", \"Actual Churn\"],\n",
    ")\n",
    "plt.ylabel(\"Actual Label\")\n",
    "plt.xlabel(\"Predicted Label\")\n",
    "plt.title(\"Confusion Matrix\")\n",
    "plt.show()\n"
   ]
  },
  {
   "cell_type": "markdown",
   "metadata": {},
   "source": [
    "Fitting 3 folds for each of 36 candidates, totalling 108 fits\n",
    "Best parameters found:  {'classifier__learning_rate': 0.09, 'classifier__max_depth': 2, 'classifier__n_estimators': 100, 'selector__k': 5}\n",
    "Best ROC AUC score:  0.6361824292161046"
   ]
  },
  {
   "cell_type": "markdown",
   "metadata": {},
   "source": [
    "# Feature importance"
   ]
  },
  {
   "cell_type": "code",
   "execution_count": 68,
   "metadata": {},
   "outputs": [
    {
     "name": "stdout",
     "output_type": "stream",
     "text": [
      "                   Feature  Importance\n",
      "0           session_number    0.650161\n",
      "3             net_winnings    0.145153\n",
      "2          sum_of_deposits    0.120260\n",
      "4  window_duration_minutes    0.048357\n",
      "1       highest_single_win    0.036069\n"
     ]
    },
    {
     "data": {
      "image/png": "[encoded data removed]",
      "text/plain": [
       "<Figure size 1000x600 with 1 Axes>"
      ]
     },
     "metadata": {},
     "output_type": "display_data"
    }
   ],
   "source": [
    "import matplotlib.pyplot as plt\n",
    "\n",
    "feature_names = X.columns\n",
    "\n",
    "# Extract feature importances\n",
    "feature_importances = churn_classifier.feature_importances_\n",
    "\n",
    "# Create a DataFrame to view the feature names and their corresponding importance\n",
    "importances_df = pd.DataFrame({\"Feature\": feature_names, \"Importance\": feature_importances})\n",
    "\n",
    "# Sort the DataFrame to show more important features at the top\n",
    "importances_df = importances_df.sort_values(by=\"Importance\", ascending=False)\n",
    "\n",
    "# Display the DataFrame\n",
    "print(importances_df)\n",
    "\n",
    "# Plotting feature importances\n",
    "plt.figure(figsize=(10, 6))\n",
    "plt.barh(importances_df[\"Feature\"], importances_df[\"Importance\"], color=\"skyblue\")\n",
    "plt.xlabel(\"Importance\")\n",
    "plt.ylabel(\"Features\")\n",
    "plt.title(\"Feature Importance\")\n",
    "plt.gca().invert_yaxis()  # Invert y-axis to have the most important at the top\n",
    "plt.show()"
   ]
  },
  {
   "cell_type": "markdown",
   "metadata": {},
   "source": [
    "# Model's behaviour on train_data"
   ]
  },
  {
   "cell_type": "code",
   "execution_count": 101,
   "metadata": {},
   "outputs": [
    {
     "name": "stdout",
     "output_type": "stream",
     "text": [
      "Classification Report:\n",
      "               precision    recall  f1-score   support\n",
      "\n",
      "           0       0.62      0.89      0.73      3234\n",
      "           1       0.60      0.23      0.33      2315\n",
      "\n",
      "    accuracy                           0.62      5549\n",
      "   macro avg       0.61      0.56      0.53      5549\n",
      "weighted avg       0.61      0.62      0.57      5549\n",
      "\n"
     ]
    },
    {
     "data": {
      "image/png": "[encoded data removed]",
      "text/plain": [
       "<Figure size 640x480 with 1 Axes>"
      ]
     },
     "metadata": {},
     "output_type": "display_data"
    }
   ],
   "source": [
    "from sklearn.metrics import confusion_matrix, classification_report, roc_curve, auc\n",
    "import matplotlib.pyplot as plt\n",
    "\n",
    "# Classification Report\n",
    "cr = classification_report(y_test, churn_classifier.predict(X_test))\n",
    "print(\"Classification Report:\\n\", cr)\n",
    "\n",
    "# ROC Curve and AUC\n",
    "fpr, tpr, thresholds = roc_curve(y_test, churn_classifier.predict_proba(X_test)[:, 1])\n",
    "roc_auc = auc(fpr, tpr)\n",
    "plt.figure()\n",
    "plt.plot(fpr, tpr, color=\"darkorange\", lw=2, label=\"ROC curve (area = %0.2f)\" % roc_auc)\n",
    "plt.plot([0, 1], [0, 1], color=\"navy\", lw=2, linestyle=\"--\")\n",
    "plt.xlabel(\"False Positive Rate\")\n",
    "plt.ylabel(\"True Positive Rate\")\n",
    "plt.title(\"Receiver Operating Characteristic\")\n",
    "plt.legend(loc=\"lower right\")\n",
    "plt.show()\n"
   ]
  },
  {
   "cell_type": "markdown",
   "metadata": {},
   "source": [
    "# Test data injection"
   ]
  },
  {
   "cell_type": "code",
   "execution_count": 18,
   "metadata": {},
   "outputs": [
    {
     "name": "stdout",
     "output_type": "stream",
     "text": [
      "shape: (61_781, 11)\n",
      "┌──────────┬───────────┬───────────┬───────────┬───┬───────────┬───────────┬───────────┬───────────┐\n",
      "│ user_id  ┆ session_n ┆ min_windo ┆ max_windo ┆ … ┆ sum_of_re ┆ highest_s ┆ highest_s ┆ sum_of_de │\n",
      "│ ---      ┆ umber     ┆ w_timesta ┆ w_timesta ┆   ┆ al_wins   ┆ ingle_bet ┆ ingle_win ┆ posits    │\n",
      "│ i64      ┆ ---       ┆ mp        ┆ mp        ┆   ┆ ---       ┆ ---       ┆ ---       ┆ ---       │\n",
      "│          ┆ i64       ┆ ---       ┆ ---       ┆   ┆ f64       ┆ f64       ┆ f64       ┆ f64       │\n",
      "│          ┆           ┆ str       ┆ str       ┆   ┆           ┆           ┆           ┆           │\n",
      "╞══════════╪═══════════╪═══════════╪═══════════╪═══╪═══════════╪═══════════╪═══════════╪═══════════╡\n",
      "│ 16960    ┆ 878       ┆ 2021-07-1 ┆ 2021-07-1 ┆ … ┆ 50.0      ┆ 2.3       ┆ 6.67      ┆ 8.33      │\n",
      "│          ┆           ┆ 2         ┆ 2         ┆   ┆           ┆           ┆           ┆           │\n",
      "│          ┆           ┆ 13:00:00  ┆ 13:30:00  ┆   ┆           ┆           ┆           ┆           │\n",
      "│ 16960    ┆ 879       ┆ 2021-07-1 ┆ 2021-07-1 ┆ … ┆ 85.33     ┆ 2.05      ┆ 6.67      ┆ 16.67     │\n",
      "│          ┆           ┆ 2         ┆ 2         ┆   ┆           ┆           ┆           ┆           │\n",
      "│          ┆           ┆ 17:00:00  ┆ 17:45:00  ┆   ┆           ┆           ┆           ┆           │\n",
      "│ 16960    ┆ 880       ┆ 2021-07-1 ┆ 2021-07-1 ┆ … ┆ 111.5     ┆ 1.99      ┆ 40.0      ┆ 33.33     │\n",
      "│          ┆           ┆ 3         ┆ 3         ┆   ┆           ┆           ┆           ┆           │\n",
      "│          ┆           ┆ 14:00:00  ┆ 15:15:00  ┆   ┆           ┆           ┆           ┆           │\n",
      "│ 49765    ┆ 1763      ┆ 2021-07-0 ┆ 2021-07-0 ┆ … ┆ 231.02    ┆ 0.05      ┆ 8.23      ┆ 30.0      │\n",
      "│          ┆           ┆ 1         ┆ 2         ┆   ┆           ┆           ┆           ┆           │\n",
      "│          ┆           ┆ 14:45:00  ┆ 01:15:00  ┆   ┆           ┆           ┆           ┆           │\n",
      "│ 49765    ┆ 1764      ┆ 2021-07-0 ┆ 2021-07-0 ┆ … ┆ 15.58     ┆ 0.03      ┆ 1.87      ┆ 1.67      │\n",
      "│          ┆           ┆ 2         ┆ 2         ┆   ┆           ┆           ┆           ┆           │\n",
      "│          ┆           ┆ 17:15:00  ┆ 18:15:00  ┆   ┆           ┆           ┆           ┆           │\n",
      "│ …        ┆ …         ┆ …         ┆ …         ┆ … ┆ …         ┆ …         ┆ …         ┆ …         │\n",
      "│ 11830739 ┆ 30        ┆ 2021-07-2 ┆ 2021-07-2 ┆ … ┆ 6.05      ┆ 0.05      ┆ 0.6       ┆ 0.0       │\n",
      "│          ┆           ┆ 7         ┆ 7         ┆   ┆           ┆           ┆           ┆           │\n",
      "│          ┆           ┆ 05:15:00  ┆ 05:30:00  ┆   ┆           ┆           ┆           ┆           │\n",
      "│ 11832926 ┆ 15        ┆ 2021-07-2 ┆ 2021-07-2 ┆ … ┆ 42.25     ┆ 0.83      ┆ 6.25      ┆ 0.0       │\n",
      "│          ┆           ┆ 6         ┆ 6         ┆   ┆           ┆           ┆           ┆           │\n",
      "│          ┆           ┆ 07:30:00  ┆ 07:45:00  ┆   ┆           ┆           ┆           ┆           │\n",
      "│ 11834070 ┆ 20        ┆ 2021-07-2 ┆ 2021-07-2 ┆ … ┆ 0.02      ┆ 0.13      ┆ 0.02      ┆ 0.0       │\n",
      "│          ┆           ┆ 7         ┆ 7         ┆   ┆           ┆           ┆           ┆           │\n",
      "│          ┆           ┆ 00:45:00  ┆ 00:45:00  ┆   ┆           ┆           ┆           ┆           │\n",
      "│ 11835643 ┆ 10        ┆ 2021-07-2 ┆ 2021-07-2 ┆ … ┆ 0.15      ┆ 0.01      ┆ 0.12      ┆ 0.0       │\n",
      "│          ┆           ┆ 8         ┆ 8         ┆   ┆           ┆           ┆           ┆           │\n",
      "│          ┆           ┆ 07:15:00  ┆ 07:15:00  ┆   ┆           ┆           ┆           ┆           │\n",
      "│ 11839363 ┆ 13        ┆ 2021-07-2 ┆ 2021-07-2 ┆ … ┆ 0.14      ┆ 0.08      ┆ 0.12      ┆ 0.0       │\n",
      "│          ┆           ┆ 9         ┆ 9         ┆   ┆           ┆           ┆           ┆           │\n",
      "│          ┆           ┆ 03:00:00  ┆ 03:00:00  ┆   ┆           ┆           ┆           ┆           │\n",
      "└──────────┴───────────┴───────────┴───────────┴───┴───────────┴───────────┴───────────┴───────────┘\n"
     ]
    }
   ],
   "source": [
    "data_test = data_read_pl(\"data/test.csv\")\n",
    "print(data_test)\n"
   ]
  },
  {
   "cell_type": "code",
   "execution_count": 39,
   "metadata": {},
   "outputs": [
    {
     "data": {
      "text/html": [
       "<div><style>\n",
       ".dataframe > thead > tr,\n",
       ".dataframe > tbody > tr {\n",
       "  text-align: right;\n",
       "  white-space: pre-wrap;\n",
       "}\n",
       "</style>\n",
       "<small>shape: (2_018, 11)</small><table border=\"1\" class=\"dataframe\"><thead><tr><th>user_id</th><th>session_number</th><th>min_window_timestamp</th><th>max_window_timestamp</th><th>count_of_bets</th><th>count_of_wins</th><th>sum_of_real_bets</th><th>sum_of_real_wins</th><th>highest_single_bet</th><th>highest_single_win</th><th>sum_of_deposits</th></tr><tr><td>i64</td><td>i64</td><td>str</td><td>str</td><td>i64</td><td>i64</td><td>f64</td><td>f64</td><td>f64</td><td>f64</td><td>f64</td></tr></thead><tbody><tr><td>11442775</td><td>17</td><td>&quot;2021-07-03 17:45:00&quot;</td><td>&quot;2021-07-03 17:45:00&quot;</td><td>5</td><td>1</td><td>0.08</td><td>0.0</td><td>0.02</td><td>0.0</td><td>0.0</td></tr><tr><td>11639791</td><td>4</td><td>&quot;2021-07-21 17:00:00&quot;</td><td>&quot;2021-07-21 17:45:00&quot;</td><td>393</td><td>108</td><td>95.47</td><td>42.4</td><td>0.25</td><td>5.0</td><td>50.0</td></tr><tr><td>11191087</td><td>18</td><td>&quot;2021-07-07 18:30:00&quot;</td><td>&quot;2021-07-07 20:30:00&quot;</td><td>433</td><td>220</td><td>167.77</td><td>103.15</td><td>0.83</td><td>8.96</td><td>64.17</td></tr><tr><td>9781717</td><td>129</td><td>&quot;2021-07-08 21:00:00&quot;</td><td>&quot;2021-07-08 21:15:00&quot;</td><td>116</td><td>22</td><td>26.6</td><td>11.63</td><td>0.38</td><td>4.95</td><td>27.5</td></tr><tr><td>8674524</td><td>106</td><td>&quot;2021-07-20 18:00:00&quot;</td><td>&quot;2021-07-20 18:30:00&quot;</td><td>237</td><td>46</td><td>45.48</td><td>28.8</td><td>0.43</td><td>8.67</td><td>16.67</td></tr><tr><td>&hellip;</td><td>&hellip;</td><td>&hellip;</td><td>&hellip;</td><td>&hellip;</td><td>&hellip;</td><td>&hellip;</td><td>&hellip;</td><td>&hellip;</td><td>&hellip;</td><td>&hellip;</td></tr><tr><td>6671670</td><td>294</td><td>&quot;2021-07-06 13:45:00&quot;</td><td>&quot;2021-07-06 14:15:00&quot;</td><td>238</td><td>81</td><td>46.45</td><td>26.45</td><td>0.67</td><td>2.31</td><td>18.33</td></tr><tr><td>9711179</td><td>7</td><td>&quot;2021-07-16 11:30:00&quot;</td><td>&quot;2021-07-16 11:30:00&quot;</td><td>1</td><td>0</td><td>0.17</td><td>0.0</td><td>0.17</td><td>0.0</td><td>0.0</td></tr><tr><td>11124583</td><td>30</td><td>&quot;2021-07-01 07:15:00&quot;</td><td>&quot;2021-07-01 07:15:00&quot;</td><td>26</td><td>7</td><td>0.27</td><td>0.09</td><td>0.02</td><td>0.02</td><td>0.0</td></tr><tr><td>4438077</td><td>105</td><td>&quot;2021-07-18 21:00:00&quot;</td><td>&quot;2021-07-18 21:30:00&quot;</td><td>243</td><td>90</td><td>53.89</td><td>37.27</td><td>0.25</td><td>5.1</td><td>16.67</td></tr><tr><td>11072692</td><td>115</td><td>&quot;2021-07-16 06:45:00&quot;</td><td>&quot;2021-07-16 07:30:00&quot;</td><td>28</td><td>5</td><td>77.58</td><td>66.0</td><td>4.58</td><td>30.0</td><td>11.58</td></tr></tbody></table></div>"
      ],
      "text/plain": [
       "shape: (2_018, 11)\n",
       "┌──────────┬───────────┬───────────┬───────────┬───┬───────────┬───────────┬───────────┬───────────┐\n",
       "│ user_id  ┆ session_n ┆ min_windo ┆ max_windo ┆ … ┆ sum_of_re ┆ highest_s ┆ highest_s ┆ sum_of_de │\n",
       "│ ---      ┆ umber     ┆ w_timesta ┆ w_timesta ┆   ┆ al_wins   ┆ ingle_bet ┆ ingle_win ┆ posits    │\n",
       "│ i64      ┆ ---       ┆ mp        ┆ mp        ┆   ┆ ---       ┆ ---       ┆ ---       ┆ ---       │\n",
       "│          ┆ i64       ┆ ---       ┆ ---       ┆   ┆ f64       ┆ f64       ┆ f64       ┆ f64       │\n",
       "│          ┆           ┆ str       ┆ str       ┆   ┆           ┆           ┆           ┆           │\n",
       "╞══════════╪═══════════╪═══════════╪═══════════╪═══╪═══════════╪═══════════╪═══════════╪═══════════╡\n",
       "│ 11442775 ┆ 17        ┆ 2021-07-0 ┆ 2021-07-0 ┆ … ┆ 0.0       ┆ 0.02      ┆ 0.0       ┆ 0.0       │\n",
       "│          ┆           ┆ 3         ┆ 3         ┆   ┆           ┆           ┆           ┆           │\n",
       "│          ┆           ┆ 17:45:00  ┆ 17:45:00  ┆   ┆           ┆           ┆           ┆           │\n",
       "│ 11639791 ┆ 4         ┆ 2021-07-2 ┆ 2021-07-2 ┆ … ┆ 42.4      ┆ 0.25      ┆ 5.0       ┆ 50.0      │\n",
       "│          ┆           ┆ 1         ┆ 1         ┆   ┆           ┆           ┆           ┆           │\n",
       "│          ┆           ┆ 17:00:00  ┆ 17:45:00  ┆   ┆           ┆           ┆           ┆           │\n",
       "│ 11191087 ┆ 18        ┆ 2021-07-0 ┆ 2021-07-0 ┆ … ┆ 103.15    ┆ 0.83      ┆ 8.96      ┆ 64.17     │\n",
       "│          ┆           ┆ 7         ┆ 7         ┆   ┆           ┆           ┆           ┆           │\n",
       "│          ┆           ┆ 18:30:00  ┆ 20:30:00  ┆   ┆           ┆           ┆           ┆           │\n",
       "│ 9781717  ┆ 129       ┆ 2021-07-0 ┆ 2021-07-0 ┆ … ┆ 11.63     ┆ 0.38      ┆ 4.95      ┆ 27.5      │\n",
       "│          ┆           ┆ 8         ┆ 8         ┆   ┆           ┆           ┆           ┆           │\n",
       "│          ┆           ┆ 21:00:00  ┆ 21:15:00  ┆   ┆           ┆           ┆           ┆           │\n",
       "│ 8674524  ┆ 106       ┆ 2021-07-2 ┆ 2021-07-2 ┆ … ┆ 28.8      ┆ 0.43      ┆ 8.67      ┆ 16.67     │\n",
       "│          ┆           ┆ 0         ┆ 0         ┆   ┆           ┆           ┆           ┆           │\n",
       "│          ┆           ┆ 18:00:00  ┆ 18:30:00  ┆   ┆           ┆           ┆           ┆           │\n",
       "│ …        ┆ …         ┆ …         ┆ …         ┆ … ┆ …         ┆ …         ┆ …         ┆ …         │\n",
       "│ 6671670  ┆ 294       ┆ 2021-07-0 ┆ 2021-07-0 ┆ … ┆ 26.45     ┆ 0.67      ┆ 2.31      ┆ 18.33     │\n",
       "│          ┆           ┆ 6         ┆ 6         ┆   ┆           ┆           ┆           ┆           │\n",
       "│          ┆           ┆ 13:45:00  ┆ 14:15:00  ┆   ┆           ┆           ┆           ┆           │\n",
       "│ 9711179  ┆ 7         ┆ 2021-07-1 ┆ 2021-07-1 ┆ … ┆ 0.0       ┆ 0.17      ┆ 0.0       ┆ 0.0       │\n",
       "│          ┆           ┆ 6         ┆ 6         ┆   ┆           ┆           ┆           ┆           │\n",
       "│          ┆           ┆ 11:30:00  ┆ 11:30:00  ┆   ┆           ┆           ┆           ┆           │\n",
       "│ 11124583 ┆ 30        ┆ 2021-07-0 ┆ 2021-07-0 ┆ … ┆ 0.09      ┆ 0.02      ┆ 0.02      ┆ 0.0       │\n",
       "│          ┆           ┆ 1         ┆ 1         ┆   ┆           ┆           ┆           ┆           │\n",
       "│          ┆           ┆ 07:15:00  ┆ 07:15:00  ┆   ┆           ┆           ┆           ┆           │\n",
       "│ 4438077  ┆ 105       ┆ 2021-07-1 ┆ 2021-07-1 ┆ … ┆ 37.27     ┆ 0.25      ┆ 5.1       ┆ 16.67     │\n",
       "│          ┆           ┆ 8         ┆ 8         ┆   ┆           ┆           ┆           ┆           │\n",
       "│          ┆           ┆ 21:00:00  ┆ 21:30:00  ┆   ┆           ┆           ┆           ┆           │\n",
       "│ 11072692 ┆ 115       ┆ 2021-07-1 ┆ 2021-07-1 ┆ … ┆ 66.0      ┆ 4.58      ┆ 30.0      ┆ 11.58     │\n",
       "│          ┆           ┆ 6         ┆ 6         ┆   ┆           ┆           ┆           ┆           │\n",
       "│          ┆           ┆ 06:45:00  ┆ 07:30:00  ┆   ┆           ┆           ┆           ┆           │\n",
       "└──────────┴───────────┴───────────┴───────────┴───┴───────────┴───────────┴───────────┴───────────┘"
      ]
     },
     "execution_count": 39,
     "metadata": {},
     "output_type": "execute_result"
    }
   ],
   "source": [
    "def get_last_sessions(data_test: pl.DataFrame):\n",
    "    return data_test.sort(\"session_number\", descending=True).group_by(\"user_id\").head(1)\n",
    "\n",
    "\n",
    "processed_test_df = get_last_sessions(data_test)\n",
    "processed_test_df"
   ]
  },
  {
   "cell_type": "code",
   "execution_count": null,
   "metadata": {},
   "outputs": [],
   "source": [
    "fe_test = FeatureEngineering(processed_test_df, test=True)\n",
    "data_test_1 = fe_test.finalize()"
   ]
  },
  {
   "cell_type": "code",
   "execution_count": 47,
   "metadata": {},
   "outputs": [
    {
     "data": {
      "text/html": [
       "<div><style>\n",
       ".dataframe > thead > tr,\n",
       ".dataframe > tbody > tr {\n",
       "  text-align: right;\n",
       "  white-space: pre-wrap;\n",
       "}\n",
       "</style>\n",
       "<small>shape: (2_018, 15)</small><table border=\"1\" class=\"dataframe\"><thead><tr><th>user_id</th><th>session_number</th><th>min_window_timestamp</th><th>max_window_timestamp</th><th>count_of_bets</th><th>count_of_wins</th><th>sum_of_real_bets</th><th>sum_of_real_wins</th><th>highest_single_bet</th><th>highest_single_win</th><th>sum_of_deposits</th><th>net_winnings</th><th>win_rate</th><th>window_duration</th><th>window_duration_minutes</th></tr><tr><td>i64</td><td>i64</td><td>datetime[μs]</td><td>datetime[μs]</td><td>i64</td><td>i64</td><td>f64</td><td>f64</td><td>f64</td><td>f64</td><td>f64</td><td>f64</td><td>f64</td><td>duration[μs]</td><td>f64</td></tr></thead><tbody><tr><td>11442775</td><td>17</td><td>2021-07-03 17:45:00</td><td>2021-07-03 17:45:00</td><td>5</td><td>1</td><td>0.08</td><td>0.0</td><td>0.02</td><td>0.0</td><td>0.0</td><td>-0.08</td><td>0.2</td><td>0µs</td><td>0.0</td></tr><tr><td>11639791</td><td>4</td><td>2021-07-21 17:00:00</td><td>2021-07-21 17:45:00</td><td>393</td><td>108</td><td>95.47</td><td>42.4</td><td>0.25</td><td>5.0</td><td>50.0</td><td>-53.07</td><td>0.274809</td><td>45m</td><td>45.0</td></tr><tr><td>11191087</td><td>18</td><td>2021-07-07 18:30:00</td><td>2021-07-07 20:30:00</td><td>433</td><td>220</td><td>167.77</td><td>103.15</td><td>0.83</td><td>8.96</td><td>64.17</td><td>-64.62</td><td>0.508083</td><td>2h</td><td>120.0</td></tr><tr><td>9781717</td><td>129</td><td>2021-07-08 21:00:00</td><td>2021-07-08 21:15:00</td><td>116</td><td>22</td><td>26.6</td><td>11.63</td><td>0.38</td><td>4.95</td><td>27.5</td><td>-14.97</td><td>0.189655</td><td>15m</td><td>15.0</td></tr><tr><td>8674524</td><td>106</td><td>2021-07-20 18:00:00</td><td>2021-07-20 18:30:00</td><td>237</td><td>46</td><td>45.48</td><td>28.8</td><td>0.43</td><td>8.67</td><td>16.67</td><td>-16.68</td><td>0.194093</td><td>30m</td><td>30.0</td></tr><tr><td>&hellip;</td><td>&hellip;</td><td>&hellip;</td><td>&hellip;</td><td>&hellip;</td><td>&hellip;</td><td>&hellip;</td><td>&hellip;</td><td>&hellip;</td><td>&hellip;</td><td>&hellip;</td><td>&hellip;</td><td>&hellip;</td><td>&hellip;</td><td>&hellip;</td></tr><tr><td>6671670</td><td>294</td><td>2021-07-06 13:45:00</td><td>2021-07-06 14:15:00</td><td>238</td><td>81</td><td>46.45</td><td>26.45</td><td>0.67</td><td>2.31</td><td>18.33</td><td>-20.0</td><td>0.340336</td><td>30m</td><td>30.0</td></tr><tr><td>9711179</td><td>7</td><td>2021-07-16 11:30:00</td><td>2021-07-16 11:30:00</td><td>1</td><td>0</td><td>0.17</td><td>0.0</td><td>0.17</td><td>0.0</td><td>0.0</td><td>-0.17</td><td>0.0</td><td>0µs</td><td>0.0</td></tr><tr><td>11124583</td><td>30</td><td>2021-07-01 07:15:00</td><td>2021-07-01 07:15:00</td><td>26</td><td>7</td><td>0.27</td><td>0.09</td><td>0.02</td><td>0.02</td><td>0.0</td><td>-0.18</td><td>0.269231</td><td>0µs</td><td>0.0</td></tr><tr><td>4438077</td><td>105</td><td>2021-07-18 21:00:00</td><td>2021-07-18 21:30:00</td><td>243</td><td>90</td><td>53.89</td><td>37.27</td><td>0.25</td><td>5.1</td><td>16.67</td><td>-16.62</td><td>0.37037</td><td>30m</td><td>30.0</td></tr><tr><td>11072692</td><td>115</td><td>2021-07-16 06:45:00</td><td>2021-07-16 07:30:00</td><td>28</td><td>5</td><td>77.58</td><td>66.0</td><td>4.58</td><td>30.0</td><td>11.58</td><td>-11.58</td><td>0.178571</td><td>45m</td><td>45.0</td></tr></tbody></table></div>"
      ],
      "text/plain": [
       "shape: (2_018, 15)\n",
       "┌──────────┬────────────┬───────────┬───────────┬───┬───────────┬──────────┬───────────┬───────────┐\n",
       "│ user_id  ┆ session_nu ┆ min_windo ┆ max_windo ┆ … ┆ net_winni ┆ win_rate ┆ window_du ┆ window_du │\n",
       "│ ---      ┆ mber       ┆ w_timesta ┆ w_timesta ┆   ┆ ngs       ┆ ---      ┆ ration    ┆ ration_mi │\n",
       "│ i64      ┆ ---        ┆ mp        ┆ mp        ┆   ┆ ---       ┆ f64      ┆ ---       ┆ nutes     │\n",
       "│          ┆ i64        ┆ ---       ┆ ---       ┆   ┆ f64       ┆          ┆ duration[ ┆ ---       │\n",
       "│          ┆            ┆ datetime[ ┆ datetime[ ┆   ┆           ┆          ┆ μs]       ┆ f64       │\n",
       "│          ┆            ┆ μs]       ┆ μs]       ┆   ┆           ┆          ┆           ┆           │\n",
       "╞══════════╪════════════╪═══════════╪═══════════╪═══╪═══════════╪══════════╪═══════════╪═══════════╡\n",
       "│ 11442775 ┆ 17         ┆ 2021-07-0 ┆ 2021-07-0 ┆ … ┆ -0.08     ┆ 0.2      ┆ 0µs       ┆ 0.0       │\n",
       "│          ┆            ┆ 3         ┆ 3         ┆   ┆           ┆          ┆           ┆           │\n",
       "│          ┆            ┆ 17:45:00  ┆ 17:45:00  ┆   ┆           ┆          ┆           ┆           │\n",
       "│ 11639791 ┆ 4          ┆ 2021-07-2 ┆ 2021-07-2 ┆ … ┆ -53.07    ┆ 0.274809 ┆ 45m       ┆ 45.0      │\n",
       "│          ┆            ┆ 1         ┆ 1         ┆   ┆           ┆          ┆           ┆           │\n",
       "│          ┆            ┆ 17:00:00  ┆ 17:45:00  ┆   ┆           ┆          ┆           ┆           │\n",
       "│ 11191087 ┆ 18         ┆ 2021-07-0 ┆ 2021-07-0 ┆ … ┆ -64.62    ┆ 0.508083 ┆ 2h        ┆ 120.0     │\n",
       "│          ┆            ┆ 7         ┆ 7         ┆   ┆           ┆          ┆           ┆           │\n",
       "│          ┆            ┆ 18:30:00  ┆ 20:30:00  ┆   ┆           ┆          ┆           ┆           │\n",
       "│ 9781717  ┆ 129        ┆ 2021-07-0 ┆ 2021-07-0 ┆ … ┆ -14.97    ┆ 0.189655 ┆ 15m       ┆ 15.0      │\n",
       "│          ┆            ┆ 8         ┆ 8         ┆   ┆           ┆          ┆           ┆           │\n",
       "│          ┆            ┆ 21:00:00  ┆ 21:15:00  ┆   ┆           ┆          ┆           ┆           │\n",
       "│ 8674524  ┆ 106        ┆ 2021-07-2 ┆ 2021-07-2 ┆ … ┆ -16.68    ┆ 0.194093 ┆ 30m       ┆ 30.0      │\n",
       "│          ┆            ┆ 0         ┆ 0         ┆   ┆           ┆          ┆           ┆           │\n",
       "│          ┆            ┆ 18:00:00  ┆ 18:30:00  ┆   ┆           ┆          ┆           ┆           │\n",
       "│ …        ┆ …          ┆ …         ┆ …         ┆ … ┆ …         ┆ …        ┆ …         ┆ …         │\n",
       "│ 6671670  ┆ 294        ┆ 2021-07-0 ┆ 2021-07-0 ┆ … ┆ -20.0     ┆ 0.340336 ┆ 30m       ┆ 30.0      │\n",
       "│          ┆            ┆ 6         ┆ 6         ┆   ┆           ┆          ┆           ┆           │\n",
       "│          ┆            ┆ 13:45:00  ┆ 14:15:00  ┆   ┆           ┆          ┆           ┆           │\n",
       "│ 9711179  ┆ 7          ┆ 2021-07-1 ┆ 2021-07-1 ┆ … ┆ -0.17     ┆ 0.0      ┆ 0µs       ┆ 0.0       │\n",
       "│          ┆            ┆ 6         ┆ 6         ┆   ┆           ┆          ┆           ┆           │\n",
       "│          ┆            ┆ 11:30:00  ┆ 11:30:00  ┆   ┆           ┆          ┆           ┆           │\n",
       "│ 11124583 ┆ 30         ┆ 2021-07-0 ┆ 2021-07-0 ┆ … ┆ -0.18     ┆ 0.269231 ┆ 0µs       ┆ 0.0       │\n",
       "│          ┆            ┆ 1         ┆ 1         ┆   ┆           ┆          ┆           ┆           │\n",
       "│          ┆            ┆ 07:15:00  ┆ 07:15:00  ┆   ┆           ┆          ┆           ┆           │\n",
       "│ 4438077  ┆ 105        ┆ 2021-07-1 ┆ 2021-07-1 ┆ … ┆ -16.62    ┆ 0.37037  ┆ 30m       ┆ 30.0      │\n",
       "│          ┆            ┆ 8         ┆ 8         ┆   ┆           ┆          ┆           ┆           │\n",
       "│          ┆            ┆ 21:00:00  ┆ 21:30:00  ┆   ┆           ┆          ┆           ┆           │\n",
       "│ 11072692 ┆ 115        ┆ 2021-07-1 ┆ 2021-07-1 ┆ … ┆ -11.58    ┆ 0.178571 ┆ 45m       ┆ 45.0      │\n",
       "│          ┆            ┆ 6         ┆ 6         ┆   ┆           ┆          ┆           ┆           │\n",
       "│          ┆            ┆ 06:45:00  ┆ 07:30:00  ┆   ┆           ┆          ┆           ┆           │\n",
       "└──────────┴────────────┴───────────┴───────────┴───┴───────────┴──────────┴───────────┴───────────┘"
      ]
     },
     "execution_count": 47,
     "metadata": {},
     "output_type": "execute_result"
    }
   ],
   "source": [
    "data_test_1"
   ]
  },
  {
   "cell_type": "code",
   "execution_count": 50,
   "metadata": {},
   "outputs": [
    {
     "data": {
      "text/html": [
       "<div><style>\n",
       ".dataframe > thead > tr,\n",
       ".dataframe > tbody > tr {\n",
       "  text-align: right;\n",
       "  white-space: pre-wrap;\n",
       "}\n",
       "</style>\n",
       "<small>shape: (2_018, 11)</small><table border=\"1\" class=\"dataframe\"><thead><tr><th>user_id</th><th>session_number</th><th>count_of_bets</th><th>count_of_wins</th><th>sum_of_real_bets</th><th>sum_of_real_wins</th><th>highest_single_bet</th><th>highest_single_win</th><th>sum_of_deposits</th><th>net_winnings</th><th>window_duration_minutes</th></tr><tr><td>i64</td><td>f64</td><td>f64</td><td>f64</td><td>f64</td><td>f64</td><td>f64</td><td>f64</td><td>f64</td><td>f64</td><td>f64</td></tr></thead><tbody><tr><td>11442775</td><td>0.00212</td><td>0.00072</td><td>0.000496</td><td>0.00001</td><td>0.0</td><td>0.000087</td><td>0.0</td><td>0.0</td><td>0.455314</td><td>0.0</td></tr><tr><td>11639791</td><td>0.0</td><td>0.056604</td><td>0.053518</td><td>0.012118</td><td>0.005697</td><td>0.001091</td><td>0.004246</td><td>0.075</td><td>0.420543</td><td>0.043478</td></tr><tr><td>11191087</td><td>0.002283</td><td>0.062365</td><td>0.109019</td><td>0.021295</td><td>0.013859</td><td>0.003622</td><td>0.007609</td><td>0.096255</td><td>0.412964</td><td>0.115942</td></tr><tr><td>9781717</td><td>0.020382</td><td>0.016707</td><td>0.010902</td><td>0.003376</td><td>0.001563</td><td>0.001658</td><td>0.004204</td><td>0.04125</td><td>0.445543</td><td>0.014493</td></tr><tr><td>8674524</td><td>0.016631</td><td>0.034135</td><td>0.022795</td><td>0.005773</td><td>0.00387</td><td>0.001876</td><td>0.007363</td><td>0.025005</td><td>0.444421</td><td>0.028986</td></tr><tr><td>&hellip;</td><td>&hellip;</td><td>&hellip;</td><td>&hellip;</td><td>&hellip;</td><td>&hellip;</td><td>&hellip;</td><td>&hellip;</td><td>&hellip;</td><td>&hellip;</td><td>&hellip;</td></tr><tr><td>6671670</td><td>0.047285</td><td>0.034279</td><td>0.040139</td><td>0.005896</td><td>0.003554</td><td>0.002924</td><td>0.001962</td><td>0.027495</td><td>0.442243</td><td>0.028986</td></tr><tr><td>9711179</td><td>0.000489</td><td>0.000144</td><td>0.0</td><td>0.000022</td><td>0.0</td><td>0.000742</td><td>0.0</td><td>0.0</td><td>0.455255</td><td>0.0</td></tr><tr><td>11124583</td><td>0.004239</td><td>0.003745</td><td>0.003469</td><td>0.000034</td><td>0.000012</td><td>0.000087</td><td>0.000017</td><td>0.0</td><td>0.455248</td><td>0.0</td></tr><tr><td>4438077</td><td>0.016468</td><td>0.034999</td><td>0.044599</td><td>0.00684</td><td>0.005008</td><td>0.001091</td><td>0.004331</td><td>0.025005</td><td>0.44446</td><td>0.028986</td></tr><tr><td>11072692</td><td>0.018099</td><td>0.004033</td><td>0.002478</td><td>0.009847</td><td>0.008868</td><td>0.019985</td><td>0.025478</td><td>0.01737</td><td>0.447768</td><td>0.043478</td></tr></tbody></table></div>"
      ],
      "text/plain": [
       "shape: (2_018, 11)\n",
       "┌──────────┬───────────┬───────────┬───────────┬───┬───────────┬───────────┬───────────┬───────────┐\n",
       "│ user_id  ┆ session_n ┆ count_of_ ┆ count_of_ ┆ … ┆ highest_s ┆ sum_of_de ┆ net_winni ┆ window_du │\n",
       "│ ---      ┆ umber     ┆ bets      ┆ wins      ┆   ┆ ingle_win ┆ posits    ┆ ngs       ┆ ration_mi │\n",
       "│ i64      ┆ ---       ┆ ---       ┆ ---       ┆   ┆ ---       ┆ ---       ┆ ---       ┆ nutes     │\n",
       "│          ┆ f64       ┆ f64       ┆ f64       ┆   ┆ f64       ┆ f64       ┆ f64       ┆ ---       │\n",
       "│          ┆           ┆           ┆           ┆   ┆           ┆           ┆           ┆ f64       │\n",
       "╞══════════╪═══════════╪═══════════╪═══════════╪═══╪═══════════╪═══════════╪═══════════╪═══════════╡\n",
       "│ 11442775 ┆ 0.00212   ┆ 0.00072   ┆ 0.000496  ┆ … ┆ 0.0       ┆ 0.0       ┆ 0.455314  ┆ 0.0       │\n",
       "│ 11639791 ┆ 0.0       ┆ 0.056604  ┆ 0.053518  ┆ … ┆ 0.004246  ┆ 0.075     ┆ 0.420543  ┆ 0.043478  │\n",
       "│ 11191087 ┆ 0.002283  ┆ 0.062365  ┆ 0.109019  ┆ … ┆ 0.007609  ┆ 0.096255  ┆ 0.412964  ┆ 0.115942  │\n",
       "│ 9781717  ┆ 0.020382  ┆ 0.016707  ┆ 0.010902  ┆ … ┆ 0.004204  ┆ 0.04125   ┆ 0.445543  ┆ 0.014493  │\n",
       "│ 8674524  ┆ 0.016631  ┆ 0.034135  ┆ 0.022795  ┆ … ┆ 0.007363  ┆ 0.025005  ┆ 0.444421  ┆ 0.028986  │\n",
       "│ …        ┆ …         ┆ …         ┆ …         ┆ … ┆ …         ┆ …         ┆ …         ┆ …         │\n",
       "│ 6671670  ┆ 0.047285  ┆ 0.034279  ┆ 0.040139  ┆ … ┆ 0.001962  ┆ 0.027495  ┆ 0.442243  ┆ 0.028986  │\n",
       "│ 9711179  ┆ 0.000489  ┆ 0.000144  ┆ 0.0       ┆ … ┆ 0.0       ┆ 0.0       ┆ 0.455255  ┆ 0.0       │\n",
       "│ 11124583 ┆ 0.004239  ┆ 0.003745  ┆ 0.003469  ┆ … ┆ 0.000017  ┆ 0.0       ┆ 0.455248  ┆ 0.0       │\n",
       "│ 4438077  ┆ 0.016468  ┆ 0.034999  ┆ 0.044599  ┆ … ┆ 0.004331  ┆ 0.025005  ┆ 0.44446   ┆ 0.028986  │\n",
       "│ 11072692 ┆ 0.018099  ┆ 0.004033  ┆ 0.002478  ┆ … ┆ 0.025478  ┆ 0.01737   ┆ 0.447768  ┆ 0.043478  │\n",
       "└──────────┴───────────┴───────────┴───────────┴───┴───────────┴───────────┴───────────┴───────────┘"
      ]
     },
     "execution_count": 50,
     "metadata": {},
     "output_type": "execute_result"
    }
   ],
   "source": [
    "clean_test_df = exclude_columns_pl(\n",
    "    data_test_1,\n",
    "    columns=[\n",
    "        \"win_rate\",\n",
    "        \"window_duration\",\n",
    "        \"min_window_timestamp\",\n",
    "        \"max_window_timestamp\",\n",
    "    ],\n",
    ")\n",
    "clean_test_df = clean_test_df.filter(pl.col(\"window_duration_minutes\") >= 0)\n",
    "clean_test_df = fe.normalize_columns(clean_test_df, columns=clean_test_df.drop(\"user_id\").columns)\n",
    "clean_test_df"
   ]
  },
  {
   "cell_type": "code",
   "execution_count": 62,
   "metadata": {},
   "outputs": [
    {
     "data": {
      "text/html": [
       "<div><style>\n",
       ".dataframe > thead > tr,\n",
       ".dataframe > tbody > tr {\n",
       "  text-align: right;\n",
       "  white-space: pre-wrap;\n",
       "}\n",
       "</style>\n",
       "<small>shape: (2_018, 5)</small><table border=\"1\" class=\"dataframe\"><thead><tr><th>session_number</th><th>highest_single_win</th><th>sum_of_deposits</th><th>net_winnings</th><th>window_duration_minutes</th></tr><tr><td>f64</td><td>f64</td><td>f64</td><td>f64</td><td>f64</td></tr></thead><tbody><tr><td>0.00212</td><td>0.0</td><td>0.0</td><td>0.455314</td><td>0.0</td></tr><tr><td>0.0</td><td>0.004246</td><td>0.075</td><td>0.420543</td><td>0.043478</td></tr><tr><td>0.002283</td><td>0.007609</td><td>0.096255</td><td>0.412964</td><td>0.115942</td></tr><tr><td>0.020382</td><td>0.004204</td><td>0.04125</td><td>0.445543</td><td>0.014493</td></tr><tr><td>0.016631</td><td>0.007363</td><td>0.025005</td><td>0.444421</td><td>0.028986</td></tr><tr><td>&hellip;</td><td>&hellip;</td><td>&hellip;</td><td>&hellip;</td><td>&hellip;</td></tr><tr><td>0.047285</td><td>0.001962</td><td>0.027495</td><td>0.442243</td><td>0.028986</td></tr><tr><td>0.000489</td><td>0.0</td><td>0.0</td><td>0.455255</td><td>0.0</td></tr><tr><td>0.004239</td><td>0.000017</td><td>0.0</td><td>0.455248</td><td>0.0</td></tr><tr><td>0.016468</td><td>0.004331</td><td>0.025005</td><td>0.44446</td><td>0.028986</td></tr><tr><td>0.018099</td><td>0.025478</td><td>0.01737</td><td>0.447768</td><td>0.043478</td></tr></tbody></table></div>"
      ],
      "text/plain": [
       "shape: (2_018, 5)\n",
       "┌────────────────┬────────────────────┬─────────────────┬──────────────┬─────────────────────────┐\n",
       "│ session_number ┆ highest_single_win ┆ sum_of_deposits ┆ net_winnings ┆ window_duration_minutes │\n",
       "│ ---            ┆ ---                ┆ ---             ┆ ---          ┆ ---                     │\n",
       "│ f64            ┆ f64                ┆ f64             ┆ f64          ┆ f64                     │\n",
       "╞════════════════╪════════════════════╪═════════════════╪══════════════╪═════════════════════════╡\n",
       "│ 0.00212        ┆ 0.0                ┆ 0.0             ┆ 0.455314     ┆ 0.0                     │\n",
       "│ 0.0            ┆ 0.004246           ┆ 0.075           ┆ 0.420543     ┆ 0.043478                │\n",
       "│ 0.002283       ┆ 0.007609           ┆ 0.096255        ┆ 0.412964     ┆ 0.115942                │\n",
       "│ 0.020382       ┆ 0.004204           ┆ 0.04125         ┆ 0.445543     ┆ 0.014493                │\n",
       "│ 0.016631       ┆ 0.007363           ┆ 0.025005        ┆ 0.444421     ┆ 0.028986                │\n",
       "│ …              ┆ …                  ┆ …               ┆ …            ┆ …                       │\n",
       "│ 0.047285       ┆ 0.001962           ┆ 0.027495        ┆ 0.442243     ┆ 0.028986                │\n",
       "│ 0.000489       ┆ 0.0                ┆ 0.0             ┆ 0.455255     ┆ 0.0                     │\n",
       "│ 0.004239       ┆ 0.000017           ┆ 0.0             ┆ 0.455248     ┆ 0.0                     │\n",
       "│ 0.016468       ┆ 0.004331           ┆ 0.025005        ┆ 0.44446      ┆ 0.028986                │\n",
       "│ 0.018099       ┆ 0.025478           ┆ 0.01737         ┆ 0.447768     ┆ 0.043478                │\n",
       "└────────────────┴────────────────────┴─────────────────┴──────────────┴─────────────────────────┘"
      ]
     },
     "execution_count": 62,
     "metadata": {},
     "output_type": "execute_result"
    }
   ],
   "source": [
    "# Selecting the required columns from the test data to feed the model\n",
    "features = [\"session_number\", \"highest_single_win\", \"sum_of_deposits\", \"net_winnings\", \"window_duration_minutes\"]\n",
    "X_test = clean_test_df[features]\n",
    "X_test"
   ]
  },
  {
   "cell_type": "code",
   "execution_count": 67,
   "metadata": {},
   "outputs": [
    {
     "name": "stdout",
     "output_type": "stream",
     "text": [
      "shape: (2_018, 2)\n",
      "┌──────────┬───────────────────┐\n",
      "│ user_id  ┆ churn_probability │\n",
      "│ ---      ┆ ---               │\n",
      "│ i64      ┆ f64               │\n",
      "╞══════════╪═══════════════════╡\n",
      "│ 11442775 ┆ 0.679858          │\n",
      "│ 11639791 ┆ 0.821103          │\n",
      "│ 11191087 ┆ 0.788534          │\n",
      "│ 9781717  ┆ 0.529875          │\n",
      "│ 8674524  ┆ 0.655422          │\n",
      "│ …        ┆ …                 │\n",
      "│ 6671670  ┆ 0.558878          │\n",
      "│ 9711179  ┆ 0.751071          │\n",
      "│ 11124583 ┆ 0.655701          │\n",
      "│ 4438077  ┆ 0.648398          │\n",
      "│ 11072692 ┆ 0.657566          │\n",
      "└──────────┴───────────────────┘\n"
     ]
    }
   ],
   "source": [
    "# Predicting probabilities of churn using X_test(class label 1)\n",
    "churn_probabilities = churn_classifier.predict_proba(X_test)[:, 1]\n",
    "\n",
    "# Create a DataFrame with user_id and their corresponding churn probabilities\n",
    "output_df = clean_test_df.select(pl.col(\"user_id\"))\n",
    "\n",
    "# add the new series as a column\n",
    "output_df = output_df.with_columns(pl.Series(\"churn_probability\", churn_probabilities))\n",
    "print(output_df)\n"
   ]
  },
  {
   "cell_type": "code",
   "execution_count": null,
   "metadata": {},
   "outputs": [],
   "source": [
    "count_no_churn = output_df.filter(pl.col(\"churn_probability\") <= 0.5).shape[0]\n",
    "count_churn = output_df.filter(pl.col(\"churn_probability\") > 0.5).shape[0]\n",
    "# count_unknown = output_df.filter(pl.col(\"churn_probability\") == 0.5).shape[0]\n",
    "total_players = output_df.shape[0]"
   ]
  },
  {
   "cell_type": "code",
   "execution_count": 108,
   "metadata": {},
   "outputs": [
    {
     "name": "stdout",
     "output_type": "stream",
     "text": [
      "\n",
      "    count_no_churn: 193,\n",
      "    count_churn: 1825\n",
      "    ratio_churn(%): 90.44\n",
      "\n"
     ]
    }
   ],
   "source": [
    "print(f\"\"\"\n",
    "    count_no_churn: {count_no_churn},\n",
    "    ount_churn: {count_churn}\n",
    "    ratio_churn(%): {round(count_churn * 100 / total_players, 2)}\n",
    "\"\"\")"
   ]
  },
  {
   "cell_type": "code",
   "execution_count": 104,
   "metadata": {},
   "outputs": [
    {
     "data": {
      "text/html": [
       "<div><style>\n",
       ".dataframe > thead > tr,\n",
       ".dataframe > tbody > tr {\n",
       "  text-align: right;\n",
       "  white-space: pre-wrap;\n",
       "}\n",
       "</style>\n",
       "<small>shape: (1_825, 2)</small><table border=\"1\" class=\"dataframe\"><thead><tr><th>user_id</th><th>churn_probability</th></tr><tr><td>i64</td><td>f64</td></tr></thead><tbody><tr><td>11442775</td><td>0.679858</td></tr><tr><td>11639791</td><td>0.821103</td></tr><tr><td>11191087</td><td>0.788534</td></tr><tr><td>9781717</td><td>0.529875</td></tr><tr><td>8674524</td><td>0.655422</td></tr><tr><td>&hellip;</td><td>&hellip;</td></tr><tr><td>6671670</td><td>0.558878</td></tr><tr><td>9711179</td><td>0.751071</td></tr><tr><td>11124583</td><td>0.655701</td></tr><tr><td>4438077</td><td>0.648398</td></tr><tr><td>11072692</td><td>0.657566</td></tr></tbody></table></div>"
      ],
      "text/plain": [
       "shape: (1_825, 2)\n",
       "┌──────────┬───────────────────┐\n",
       "│ user_id  ┆ churn_probability │\n",
       "│ ---      ┆ ---               │\n",
       "│ i64      ┆ f64               │\n",
       "╞══════════╪═══════════════════╡\n",
       "│ 11442775 ┆ 0.679858          │\n",
       "│ 11639791 ┆ 0.821103          │\n",
       "│ 11191087 ┆ 0.788534          │\n",
       "│ 9781717  ┆ 0.529875          │\n",
       "│ 8674524  ┆ 0.655422          │\n",
       "│ …        ┆ …                 │\n",
       "│ 6671670  ┆ 0.558878          │\n",
       "│ 9711179  ┆ 0.751071          │\n",
       "│ 11124583 ┆ 0.655701          │\n",
       "│ 4438077  ┆ 0.648398          │\n",
       "│ 11072692 ┆ 0.657566          │\n",
       "└──────────┴───────────────────┘"
      ]
     },
     "execution_count": 104,
     "metadata": {},
     "output_type": "execute_result"
    }
   ],
   "source": [
    "output_df.filter(pl.col(\"churn_probability\") >= 0.5)"
   ]
  }
 ],
 "metadata": {
  "kernelspec": {
   "display_name": ".env",
   "language": "python",
   "name": "python3"
  },
  "language_info": {
   "codemirror_mode": {
    "name": "ipython",
    "version": 3
   },
   "file_extension": ".py",
   "mimetype": "text/x-python",
   "name": "python",
   "nbconvert_exporter": "python",
   "pygments_lexer": "ipython3",
   "version": "3.9.7"
  }
 },
 "nbformat": 4,
 "nbformat_minor": 2
}
